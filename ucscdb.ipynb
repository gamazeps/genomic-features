{
 "cells": [
  {
   "cell_type": "code",
   "execution_count": 1,
   "id": "d1cbfd54-ed0a-475a-9ab4-d990ead4fa21",
   "metadata": {},
   "outputs": [
    {
     "name": "stderr",
     "output_type": "stream",
     "text": [
      "/Users/felixraimundo/Library/Application Support/hatch/env/virtual/genomic-features/KcSbK2dP/genomic-features/lib/python3.9/site-packages/urllib3/__init__.py:35: NotOpenSSLWarning: urllib3 v2 only supports OpenSSL 1.1.1+, currently the 'ssl' module is compiled with 'LibreSSL 2.8.3'. See: https://github.com/urllib3/urllib3/issues/3020\n",
      "  warnings.warn(\n"
     ]
    }
   ],
   "source": [
    "import ibis\n",
    "import genomic_features as gf"
   ]
  },
  {
   "cell_type": "code",
   "execution_count": 2,
   "id": "6c41a912-e665-44a0-8df5-a670db50973b",
   "metadata": {},
   "outputs": [],
   "source": [
    "%load_ext autoreload\n",
    "%autoreload 2"
   ]
  },
  {
   "cell_type": "code",
   "execution_count": 34,
   "id": "4aea998e-7628-4dc4-b0e6-523a7eaf9783",
   "metadata": {},
   "outputs": [],
   "source": [
    "ensdb = gf.ensembl.annotation(species=\"Hsapiens\", version=\"108\")"
   ]
  },
  {
   "cell_type": "code",
   "execution_count": 32,
   "id": "1d1b2fb5-cbbd-49dd-8fc4-d64ab3cb5354",
   "metadata": {},
   "outputs": [
    {
     "data": {
      "text/plain": [
       "EnsemblDB(organism='Homo sapiens', ensembl_release='108')"
      ]
     },
     "execution_count": 32,
     "metadata": {},
     "output_type": "execute_result"
    }
   ],
   "source": [
    "ensdb"
   ]
  },
  {
   "cell_type": "code",
   "execution_count": 36,
   "id": "463c367d-0586-47e4-852d-7e5f15df87f5",
   "metadata": {},
   "outputs": [
    {
     "data": {
      "text/plain": [
       "{'Db type': 'EnsDb',\n",
       " 'Type of Gene ID': 'Ensembl Gene ID',\n",
       " 'Supporting package': 'ensembldb',\n",
       " 'Db created by': 'ensembldb package from Bioconductor',\n",
       " 'script_version': '0.3.7',\n",
       " 'Creation time': 'Fri Oct 28 05:24:43 2022',\n",
       " 'ensembl_version': '108',\n",
       " 'ensembl_host': 'localhost',\n",
       " 'Organism': 'Homo sapiens',\n",
       " 'taxonomy_id': '9606',\n",
       " 'genome_build': 'GRCh38',\n",
       " 'DBSCHEMAVERSION': '2.2'}"
      ]
     },
     "execution_count": 36,
     "metadata": {},
     "output_type": "execute_result"
    }
   ],
   "source": [
    "ensdb.metadata"
   ]
  },
  {
   "cell_type": "code",
   "execution_count": 39,
   "id": "828d4119-b66c-460e-8233-0ca84e2c8d17",
   "metadata": {},
   "outputs": [],
   "source": [
    "ucscdb = gf.ucsc.annotation(species='Hsapiens', assembly='hg38', ucsc_table='knownGene', bioc_version='3.18', )"
   ]
  },
  {
   "cell_type": "code",
   "execution_count": 44,
   "id": "ed47b055-a237-46c8-a69c-cfc287459713",
   "metadata": {},
   "outputs": [
    {
     "data": {
      "text/plain": [
       "UCSCDB(organism='Homo sapiens', ucsc_track='GENCODE V44', genome='hg38, ucsc_table='knownGene'')"
      ]
     },
     "execution_count": 44,
     "metadata": {},
     "output_type": "execute_result"
    }
   ],
   "source": [
    "ucscdb"
   ]
  },
  {
   "cell_type": "code",
   "execution_count": 12,
   "id": "9be1fc5f-ca92-419e-b60c-3780b8d0d710",
   "metadata": {},
   "outputs": [
    {
     "data": {
      "text/html": [
       "<div>\n",
       "<style scoped>\n",
       "    .dataframe tbody tr th:only-of-type {\n",
       "        vertical-align: middle;\n",
       "    }\n",
       "\n",
       "    .dataframe tbody tr th {\n",
       "        vertical-align: top;\n",
       "    }\n",
       "\n",
       "    .dataframe thead th {\n",
       "        text-align: right;\n",
       "    }\n",
       "</style>\n",
       "<table border=\"1\" class=\"dataframe\">\n",
       "  <thead>\n",
       "    <tr style=\"text-align: right;\">\n",
       "      <th></th>\n",
       "      <th>name</th>\n",
       "      <th>value</th>\n",
       "    </tr>\n",
       "  </thead>\n",
       "  <tbody>\n",
       "    <tr>\n",
       "      <th>0</th>\n",
       "      <td>Db type</td>\n",
       "      <td>TxDb</td>\n",
       "    </tr>\n",
       "    <tr>\n",
       "      <th>1</th>\n",
       "      <td>Supporting package</td>\n",
       "      <td>GenomicFeatures</td>\n",
       "    </tr>\n",
       "    <tr>\n",
       "      <th>2</th>\n",
       "      <td>Data source</td>\n",
       "      <td>UCSC</td>\n",
       "    </tr>\n",
       "    <tr>\n",
       "      <th>3</th>\n",
       "      <td>Genome</td>\n",
       "      <td>hg38</td>\n",
       "    </tr>\n",
       "    <tr>\n",
       "      <th>4</th>\n",
       "      <td>Organism</td>\n",
       "      <td>Homo sapiens</td>\n",
       "    </tr>\n",
       "    <tr>\n",
       "      <th>5</th>\n",
       "      <td>Taxonomy ID</td>\n",
       "      <td>9606</td>\n",
       "    </tr>\n",
       "    <tr>\n",
       "      <th>6</th>\n",
       "      <td>UCSC Table</td>\n",
       "      <td>knownGene</td>\n",
       "    </tr>\n",
       "    <tr>\n",
       "      <th>7</th>\n",
       "      <td>UCSC Track</td>\n",
       "      <td>GENCODE V44</td>\n",
       "    </tr>\n",
       "    <tr>\n",
       "      <th>8</th>\n",
       "      <td>Resource URL</td>\n",
       "      <td>http://genome.ucsc.edu/</td>\n",
       "    </tr>\n",
       "    <tr>\n",
       "      <th>9</th>\n",
       "      <td>Type of Gene ID</td>\n",
       "      <td>Entrez Gene ID</td>\n",
       "    </tr>\n",
       "    <tr>\n",
       "      <th>10</th>\n",
       "      <td>Full dataset</td>\n",
       "      <td>yes</td>\n",
       "    </tr>\n",
       "    <tr>\n",
       "      <th>11</th>\n",
       "      <td>miRBase build ID</td>\n",
       "      <td>None</td>\n",
       "    </tr>\n",
       "    <tr>\n",
       "      <th>12</th>\n",
       "      <td>Nb of transcripts</td>\n",
       "      <td>276905</td>\n",
       "    </tr>\n",
       "    <tr>\n",
       "      <th>13</th>\n",
       "      <td>Db created by</td>\n",
       "      <td>GenomicFeatures package from Bioconductor</td>\n",
       "    </tr>\n",
       "    <tr>\n",
       "      <th>14</th>\n",
       "      <td>Creation time</td>\n",
       "      <td>2023-09-20 17:25:17 +0000 (Wed, 20 Sep 2023)</td>\n",
       "    </tr>\n",
       "    <tr>\n",
       "      <th>15</th>\n",
       "      <td>GenomicFeatures version at creation time</td>\n",
       "      <td>1.53.2</td>\n",
       "    </tr>\n",
       "    <tr>\n",
       "      <th>16</th>\n",
       "      <td>RSQLite version at creation time</td>\n",
       "      <td>2.3.1</td>\n",
       "    </tr>\n",
       "    <tr>\n",
       "      <th>17</th>\n",
       "      <td>DBSCHEMAVERSION</td>\n",
       "      <td>1.2</td>\n",
       "    </tr>\n",
       "  </tbody>\n",
       "</table>\n",
       "</div>"
      ],
      "text/plain": [
       "                                        name  \\\n",
       "0                                    Db type   \n",
       "1                         Supporting package   \n",
       "2                                Data source   \n",
       "3                                     Genome   \n",
       "4                                   Organism   \n",
       "5                                Taxonomy ID   \n",
       "6                                 UCSC Table   \n",
       "7                                 UCSC Track   \n",
       "8                               Resource URL   \n",
       "9                            Type of Gene ID   \n",
       "10                              Full dataset   \n",
       "11                          miRBase build ID   \n",
       "12                         Nb of transcripts   \n",
       "13                             Db created by   \n",
       "14                             Creation time   \n",
       "15  GenomicFeatures version at creation time   \n",
       "16          RSQLite version at creation time   \n",
       "17                           DBSCHEMAVERSION   \n",
       "\n",
       "                                           value  \n",
       "0                                           TxDb  \n",
       "1                                GenomicFeatures  \n",
       "2                                           UCSC  \n",
       "3                                           hg38  \n",
       "4                                   Homo sapiens  \n",
       "5                                           9606  \n",
       "6                                      knownGene  \n",
       "7                                    GENCODE V44  \n",
       "8                        http://genome.ucsc.edu/  \n",
       "9                                 Entrez Gene ID  \n",
       "10                                           yes  \n",
       "11                                          None  \n",
       "12                                        276905  \n",
       "13     GenomicFeatures package from Bioconductor  \n",
       "14  2023-09-20 17:25:17 +0000 (Wed, 20 Sep 2023)  \n",
       "15                                        1.53.2  \n",
       "16                                         2.3.1  \n",
       "17                                           1.2  "
      ]
     },
     "execution_count": 12,
     "metadata": {},
     "output_type": "execute_result"
    }
   ],
   "source": [
    "ucscdb.table('metadata').execute()"
   ]
  },
  {
   "cell_type": "code",
   "execution_count": 19,
   "id": "3dcebadb-95f2-4216-ab67-fb86c155e573",
   "metadata": {},
   "outputs": [
    {
     "data": {
      "text/plain": [
       "array(['Athaliana', 'Btaurus', 'Celegans', 'Cfamiliaris', 'Dmelanogaster',\n",
       "       'Drerio', 'Ggallus', 'Hsapiens', 'Mmulatta', 'Mmusculus',\n",
       "       'Ptroglodytes', 'Rnorvegicus', 'Scerevisiae', 'Sscrofa'],\n",
       "      dtype=object)"
      ]
     },
     "execution_count": 19,
     "metadata": {},
     "output_type": "execute_result"
    }
   ],
   "source": [
    "gf.ucsc.list_ucscdb_annotations()['species'].unique()"
   ]
  },
  {
   "cell_type": "code",
   "execution_count": 23,
   "id": "3de1b23f-d6b7-4d31-86f3-e16a40d7f9ce",
   "metadata": {},
   "outputs": [
    {
     "data": {
      "text/plain": [
       "'Btaurus Celegans Cfamiliaris Dmelanogaster Drerio Ggallus Hsapiens Mmulatta Mmusculus Ptroglodytes Rnorvegicus Scerevisiae Sscrofa'"
      ]
     },
     "execution_count": 23,
     "metadata": {},
     "output_type": "execute_result"
    }
   ],
   "source": [
    "df = gf.ucsc.list_ucscdb_annotations()\n",
    "' '.join(df['species'].unique())"
   ]
  },
  {
   "cell_type": "code",
   "execution_count": 40,
   "id": "1d418c83-c248-404e-a91c-2adf73b4cc99",
   "metadata": {},
   "outputs": [
    {
     "data": {
      "text/plain": [
       "['cds', 'chrominfo', 'exon', 'gene', 'metadata', 'splicing', 'transcript']"
      ]
     },
     "execution_count": 40,
     "metadata": {},
     "output_type": "execute_result"
    }
   ],
   "source": [
    "ucscdb.list_tables()"
   ]
  }
 ],
 "metadata": {
  "kernelspec": {
   "display_name": "Python 3 (ipykernel)",
   "language": "python",
   "name": "python3"
  },
  "language_info": {
   "codemirror_mode": {
    "name": "ipython",
    "version": 3
   },
   "file_extension": ".py",
   "mimetype": "text/x-python",
   "name": "python",
   "nbconvert_exporter": "python",
   "pygments_lexer": "ipython3",
   "version": "3.9.6"
  }
 },
 "nbformat": 4,
 "nbformat_minor": 5
}
