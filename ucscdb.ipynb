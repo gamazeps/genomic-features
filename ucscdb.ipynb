{
 "cells": [
  {
   "cell_type": "code",
   "execution_count": 1,
   "id": "d1cbfd54-ed0a-475a-9ab4-d990ead4fa21",
   "metadata": {},
   "outputs": [
    {
     "name": "stderr",
     "output_type": "stream",
     "text": [
      "/Users/felixraimundo/Library/Application Support/hatch/env/virtual/genomic-features/KcSbK2dP/genomic-features/lib/python3.9/site-packages/urllib3/__init__.py:35: NotOpenSSLWarning: urllib3 v2 only supports OpenSSL 1.1.1+, currently the 'ssl' module is compiled with 'LibreSSL 2.8.3'. See: https://github.com/urllib3/urllib3/issues/3020\n",
      "  warnings.warn(\n"
     ]
    }
   ],
   "source": [
    "import ibis\n",
    "import genomic_features as gf"
   ]
  },
  {
   "cell_type": "code",
   "execution_count": 2,
   "id": "6c41a912-e665-44a0-8df5-a670db50973b",
   "metadata": {},
   "outputs": [],
   "source": [
    "%load_ext autoreload\n",
    "%autoreload 2"
   ]
  },
  {
   "cell_type": "code",
   "execution_count": 34,
   "id": "4aea998e-7628-4dc4-b0e6-523a7eaf9783",
   "metadata": {},
   "outputs": [],
   "source": [
    "ensdb = gf.ensembl.annotation(species=\"Hsapiens\", version=\"108\")"
   ]
  },
  {
   "cell_type": "code",
   "execution_count": 39,
   "id": "828d4119-b66c-460e-8233-0ca84e2c8d17",
   "metadata": {},
   "outputs": [],
   "source": [
    "ucscdb = gf.ucsc.annotation(species='Hsapiens', assembly='hg38', ucsc_table='knownGene', bioc_version='3.18', )"
   ]
  },
  {
   "cell_type": "code",
   "execution_count": 19,
   "id": "3dcebadb-95f2-4216-ab67-fb86c155e573",
   "metadata": {},
   "outputs": [
    {
     "data": {
      "text/plain": [
       "array(['Athaliana', 'Btaurus', 'Celegans', 'Cfamiliaris', 'Dmelanogaster',\n",
       "       'Drerio', 'Ggallus', 'Hsapiens', 'Mmulatta', 'Mmusculus',\n",
       "       'Ptroglodytes', 'Rnorvegicus', 'Scerevisiae', 'Sscrofa'],\n",
       "      dtype=object)"
      ]
     },
     "execution_count": 19,
     "metadata": {},
     "output_type": "execute_result"
    }
   ],
   "source": [
    "gf.ucsc.list_ucscdb_annotations()['species'].unique()"
   ]
  },
  {
   "cell_type": "code",
   "execution_count": 23,
   "id": "3de1b23f-d6b7-4d31-86f3-e16a40d7f9ce",
   "metadata": {},
   "outputs": [
    {
     "data": {
      "text/plain": [
       "'Btaurus Celegans Cfamiliaris Dmelanogaster Drerio Ggallus Hsapiens Mmulatta Mmusculus Ptroglodytes Rnorvegicus Scerevisiae Sscrofa'"
      ]
     },
     "execution_count": 23,
     "metadata": {},
     "output_type": "execute_result"
    }
   ],
   "source": [
    "df = gf.ucsc.list_ucscdb_annotations()\n",
    "' '.join(df['species'].unique())"
   ]
  },
  {
   "cell_type": "code",
   "execution_count": 40,
   "id": "1d418c83-c248-404e-a91c-2adf73b4cc99",
   "metadata": {},
   "outputs": [
    {
     "data": {
      "text/plain": [
       "['cds', 'chrominfo', 'exon', 'gene', 'metadata', 'splicing', 'transcript']"
      ]
     },
     "execution_count": 40,
     "metadata": {},
     "output_type": "execute_result"
    }
   ],
   "source": [
    "ucscdb.list_tables()"
   ]
  }
 ],
 "metadata": {
  "kernelspec": {
   "display_name": "Python 3 (ipykernel)",
   "language": "python",
   "name": "python3"
  },
  "language_info": {
   "codemirror_mode": {
    "name": "ipython",
    "version": 3
   },
   "file_extension": ".py",
   "mimetype": "text/x-python",
   "name": "python",
   "nbconvert_exporter": "python",
   "pygments_lexer": "ipython3",
   "version": "3.9.6"
  }
 },
 "nbformat": 4,
 "nbformat_minor": 5
}
